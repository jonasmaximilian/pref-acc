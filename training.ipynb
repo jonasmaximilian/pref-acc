{
 "cells": [
  {
   "cell_type": "code",
   "execution_count": 1,
   "metadata": {},
   "outputs": [],
   "source": [
    "from brax import envs\n",
    "from brax.training.agents.ppo import train as ppo\n",
    "from prefacc.training.agents.prefppo import train as prefppo"
   ]
  },
  {
   "cell_type": "code",
   "execution_count": 2,
   "metadata": {},
   "outputs": [],
   "source": [
    "env = envs.get_environment('ant', backend='positional')"
   ]
  },
  {
   "cell_type": "code",
   "execution_count": 4,
   "metadata": {},
   "outputs": [
    {
     "name": "stdout",
     "output_type": "stream",
     "text": [
      "Training complete\n"
     ]
    }
   ],
   "source": [
    "# ant\n",
    "make_inference_fn, params, metrics = prefppo.train(\n",
    "  env,\n",
    "  num_timesteps=8_000_000, \n",
    "  num_evals=20, \n",
    "  reward_scaling=10, \n",
    "  episode_length=1000, \n",
    "  normalize_observations=True, \n",
    "  action_repeat=1, \n",
    "  unroll_length=5, \n",
    "  num_minibatches=32, \n",
    "  num_updates_per_batch=4, \n",
    "  discounting=0.97, \n",
    "  learning_rate=3e-4, \n",
    "  entropy_cost=1e-2, \n",
    "  num_envs=2048, \n",
    "  batch_size=1024, \n",
    "  seed=1,\n",
    "  num_prefs=2000)\n",
    "\n",
    "# make_inference_fn, params, metrics = prefppo.train(\n",
    "#   env,\n",
    "#           num_timesteps=50_000_000,  # Increased timesteps\n",
    "#           num_evals=20,\n",
    "#           reward_scaling=10,  # Adjusted reward scaling\n",
    "#           episode_length=100,\n",
    "#           normalize_observations=True,\n",
    "#           action_repeat=1,\n",
    "#           unroll_length=50,\n",
    "#           num_minibatches=32,\n",
    "#           num_updates_per_batch=8,\n",
    "#           discounting=0.95,\n",
    "#           learning_rate=3e-4,  # Adjusted learning rate\n",
    "#           entropy_cost=1e-3,  # Increased exploration\n",
    "#           num_envs=2048,\n",
    "#           batch_size=256,\n",
    "#           seed=1,\n",
    "#           segment_size = 32,\n",
    "#           num_prefill_iterations = 3,\n",
    "#           num_rm_batches = 8,\n",
    "#           num_prefs=8000)\n",
    "\n",
    "# make_inference_fn, params, metrics = prefppo.train(\n",
    "#         env,\n",
    "#         num_timesteps=50_000_000,  # Increased timesteps\n",
    "#         num_evals=20,\n",
    "#         reward_scaling=5,  # Adjusted reward scaling\n",
    "#         episode_length=1000,\n",
    "#         normalize_observations=True,\n",
    "#         action_repeat=4,\n",
    "#         unroll_length=50,\n",
    "#         num_minibatches=32,\n",
    "#         num_updates_per_batch=8,\n",
    "#         discounting=0.95,\n",
    "#         learning_rate=3e-4,  # Adjusted learning rate\n",
    "#         entropy_cost=1e-3,  # Increased exploration\n",
    "#         num_envs=2048,\n",
    "#         batch_size=256,\n",
    "#         seed=1,\n",
    "#         num_prefs=700\n",
    "#   )\n",
    "\n",
    "# make_inference_fn, params, metrics = prefppo.train(\n",
    "#         env,\n",
    "#         num_timesteps=50_000_000,  # Increased timesteps\n",
    "#         num_evals=20,\n",
    "#         reward_scaling=5,  # Adjusted reward scaling\n",
    "#         episode_length=1000,\n",
    "#         normalize_observations=True,\n",
    "#         action_repeat=4,\n",
    "#         unroll_length=32,\n",
    "#         num_minibatches=32,\n",
    "#         num_updates_per_batch=8,\n",
    "#         discounting=0.97,\n",
    "#         learning_rate=0.0003,  # Adjusted learning rate\n",
    "#         entropy_cost=1e-2,  # Increased exploration\n",
    "#         num_envs=4096,\n",
    "#         batch_size=2048,\n",
    "#         seed=123,\n",
    "#         num_prefs=4000\n",
    "#   )\n",
    "\n",
    "\n",
    "\n",
    "# make_inference_fn, params, metrics = ppo.train(\n",
    "#         env,\n",
    "#         num_timesteps=50_000_000,  # Increased timesteps\n",
    "#         num_evals=20,\n",
    "#         reward_scaling=5,  # Adjusted reward scaling\n",
    "#         episode_length=1000,\n",
    "#         normalize_observations=True,\n",
    "#         action_repeat=4,\n",
    "#         unroll_length=50,\n",
    "#         num_minibatches=32,\n",
    "#         num_updates_per_batch=8,\n",
    "#         discounting=0.95,\n",
    "#         learning_rate=3e-4,  # Adjusted learning rate\n",
    "#         entropy_cost=1e-3,  # Increased exploration\n",
    "#         num_envs=2048,\n",
    "#         batch_size=256,\n",
    "#         seed=1,\n",
    "# )\n",
    "\n",
    "# pusher\n",
    "# make_inference_fn, params, metrics = prefppo.train(\n",
    "#         env,\n",
    "#         num_timesteps=50_000_000,  # Increased timesteps\n",
    "#         num_evals=60,\n",
    "#         reward_scaling=5,  # Adjusted reward scaling\n",
    "#         episode_length=1000,\n",
    "#         normalize_observations=True,\n",
    "#         action_repeat=1,\n",
    "#         unroll_length=50,\n",
    "#         num_minibatches=32,\n",
    "#         num_updates_per_batch=8,\n",
    "#         discounting=0.95,\n",
    "#         learning_rate=3e-4,  # Adjusted learning rate\n",
    "#         entropy_cost=1e-2,  # Increased exploration\n",
    "#         num_envs=4096,\n",
    "#         batch_size=2048,\n",
    "#         seed=3,\n",
    "#         num_prefs=10000\n",
    "# )\n",
    "\n",
    "\n",
    "# halfcheetah\n",
    "# make_inference_fn, params, metrics = prefppo.train(\n",
    "#   env,\n",
    "#   num_timesteps=20_000_000, num_evals=10, reward_scaling=10, episode_length=1000, normalize_observations=True, action_repeat=1, unroll_length=5, num_minibatches=32, num_updates_per_batch=4, discounting=0.97, learning_rate=3e-4, entropy_cost=1e-2, num_envs=4096, batch_size=2048, seed=1,\n",
    "#   num_prefs=2000)  \n",
    "\n",
    "# hopper\n",
    "# make_inference_fn, params, metrics = prefppo.train(\n",
    "#     env,\n",
    "#     num_timesteps=50_000_000, num_evals=10, reward_scaling=10, episode_length=1000, normalize_observations=True, action_repeat=1, unroll_length=5, num_minibatches=32, num_updates_per_batch=4, discounting=0.97, learning_rate=3e-4, entropy_cost=1e-2, num_envs=4096, batch_size=2048, seed=7438279218,\n",
    "#     num_prefs=4000)  \n",
    "\n",
    "# walker2d\n",
    "# make_inference_fn, params, metrics = prefppo.train(\n",
    "#   env,\n",
    "#   num_timesteps=15_000_000, \n",
    "#   num_evals=15, \n",
    "#   reward_scaling=10, \n",
    "#   episode_length=1000, \n",
    "#   normalize_observations=True, \n",
    "#   action_repeat=1, \n",
    "#   unroll_length=5, \n",
    "#   num_minibatches=32, \n",
    "#   num_updates_per_batch=4, \n",
    "#   discounting=0.99, \n",
    "#   learning_rate=3e-4, \n",
    "#   entropy_cost=1e-2, \n",
    "#   num_envs=4096, \n",
    "#   batch_size=2048, \n",
    "#   seed=1)\n",
    "\n",
    "# pusher\n",
    "# make_inference_fn, params, metrics = prefppo.train(\n",
    "#         env,\n",
    "#         num_timesteps=50_000_000, num_evals=20, reward_scaling=5, episode_length=1000, normalize_observations=True, action_repeat=1, unroll_length=30, num_minibatches=16, num_updates_per_batch=8, discounting=0.95, learning_rate=3e-4,entropy_cost=1e-2, num_envs=2048, batch_size=512, seed=3, num_prefs=10000\n",
    "#     )\n",
    "\n",
    "\n",
    "# pendulum\n",
    "# make_inference_fn, params, metrics = prefppo.train(\n",
    "#         env,\n",
    "#         num_timesteps=5_000_000, num_evals=20, reward_scaling=10, episode_length=1000, normalize_observations=True, action_repeat=1, unroll_length=5, num_minibatches=32, num_updates_per_batch=4, discounting=0.97, learning_rate=3e-4, entropy_cost=1e-2, num_envs=2048, batch_size=1024, seed=1, num_prefs=10000\n",
    "#     )\n",
    "\n",
    "# double_pendulum\n",
    "# make_inference_fn, params, metrics = prefppo.train(\n",
    "#         env,\n",
    "#         # num_timesteps=50_000_000, num_evals=20, reward_scaling=5, episode_length=1000, normalize_observations=True, action_repeat=1, unroll_length=30, num_minibatches=16, num_updates_per_batch=8, discounting=0.95, learning_rate=3e-4,entropy_cost=1e-2, num_envs=2048, batch_size=512, seed=3, num_prefs=10000\n",
    "\n",
    "#         num_timesteps=30_000_000, num_evals=20, reward_scaling=10, episode_length=1000, normalize_observations=True, action_repeat=1, unroll_length=5, num_minibatches=32, num_updates_per_batch=4, discounting=0.97, learning_rate=3e-4, entropy_cost=1e-2, num_envs=2048, batch_size=1024, seed=1, num_prefs=2000\n",
    "#     )\n",
    "\n",
    "\n",
    "print(\"Training complete\")"
   ]
  },
  {
   "cell_type": "code",
   "execution_count": 5,
   "metadata": {},
   "outputs": [
    {
     "name": "stdout",
     "output_type": "stream",
     "text": [
      "{'eval/walltime': 46.07094120979309, 'training/sps': np.float64(389622.517631517), 'training/walltime': 35.978431224823, 'training/entropy_loss': Array(0.02376147, dtype=float32), 'training/policy_loss': Array(-0.00615441, dtype=float32), 'training/total_loss': Array(29.072296, dtype=float32), 'training/v_loss': Array(29.054693, dtype=float32), 'eval/episode_distance_from_origin': Array(23939.633, dtype=float32), 'eval/episode_forward_reward': Array(1058.7954, dtype=float32), 'eval/episode_reward': Array(806.28394, dtype=float32), 'eval/episode_reward_contact': Array(0., dtype=float32), 'eval/episode_reward_ctrl': Array(-811.19885, dtype=float32), 'eval/episode_reward_forward': Array(1058.7954, dtype=float32), 'eval/episode_reward_survive': Array(558.6875, dtype=float32), 'eval/episode_x_position': Array(23755.36, dtype=float32), 'eval/episode_x_velocity': Array(1058.7954, dtype=float32), 'eval/episode_y_position': Array(918.3069, dtype=float32), 'eval/episode_y_velocity': Array(13.893959, dtype=float32), 'eval/episode_distance_from_origin_std': Array(22216.395, dtype=float32), 'eval/episode_forward_reward_std': Array(834.4704, dtype=float32), 'eval/episode_reward_std': Array(638.7705, dtype=float32), 'eval/episode_reward_contact_std': Array(0., dtype=float32), 'eval/episode_reward_ctrl_std': Array(625.6386, dtype=float32), 'eval/episode_reward_forward_std': Array(834.4704, dtype=float32), 'eval/episode_reward_survive_std': Array(429.57635, dtype=float32), 'eval/episode_x_position_std': Array(22076.027, dtype=float32), 'eval/episode_x_velocity_std': Array(834.4704, dtype=float32), 'eval/episode_y_position_std': Array(2952.4653, dtype=float32), 'eval/episode_y_velocity_std': Array(112.98841, dtype=float32), 'eval/avg_episode_length': Array(558.6875, dtype=float32), 'eval/epoch_eval_time': 1.8210113048553467, 'eval/sps': 70290.6125067509}\n"
     ]
    }
   ],
   "source": [
    "print(metrics)"
   ]
  },
  {
   "cell_type": "code",
   "execution_count": 67,
   "metadata": {},
   "outputs": [],
   "source": [
    "from brax.io import model\n",
    "from brax.io import json\n",
    "from brax.io import html"
   ]
  },
  {
   "cell_type": "code",
   "execution_count": 68,
   "metadata": {},
   "outputs": [],
   "source": [
    "model.save_params('/tmp/params', params)"
   ]
  },
  {
   "cell_type": "code",
   "execution_count": 69,
   "metadata": {},
   "outputs": [],
   "source": [
    "params = model.load_params('/tmp/params')\n",
    "inference_fn = make_inference_fn(params)"
   ]
  },
  {
   "cell_type": "code",
   "execution_count": 70,
   "metadata": {},
   "outputs": [],
   "source": [
    "env = envs.create('reacher', backend='positional')"
   ]
  },
  {
   "cell_type": "code",
   "execution_count": 71,
   "metadata": {},
   "outputs": [],
   "source": [
    "import jax"
   ]
  },
  {
   "cell_type": "code",
   "execution_count": 72,
   "metadata": {},
   "outputs": [],
   "source": [
    "jit_env_reset = jax.jit(env.reset)\n",
    "jit_env_step = jax.jit(env.step)\n",
    "jit_inference_fn = jax.jit(inference_fn)"
   ]
  },
  {
   "cell_type": "code",
   "execution_count": 76,
   "metadata": {},
   "outputs": [],
   "source": [
    "rollout = []\n",
    "rng = jax.random.PRNGKey(seed=42)\n",
    "state = jit_env_reset(rng=rng)\n",
    "for _ in range(200):\n",
    "  rollout.append(state.pipeline_state)\n",
    "  act_rng, rng = jax.random.split(rng)\n",
    "  act, _ = jit_inference_fn(state.obs, act_rng)\n",
    "  state = jit_env_step(state, act)"
   ]
  },
  {
   "cell_type": "code",
   "execution_count": 77,
   "metadata": {},
   "outputs": [],
   "source": [
    "from IPython.display import HTML, clear_output"
   ]
  },
  {
   "cell_type": "code",
   "execution_count": 78,
   "metadata": {
    "scrolled": true
   },
   "outputs": [
    {
     "data": {
      "text/html": [
       "<!DOCTYPE html>\n",
       "<html>\n",
       "\n",
       "  <head>\n",
       "    <title>Brax visualizer</title>\n",
       "    <link rel=\"shortcut icon\" type=\"image/x-icon\" href=\"/favicon.ico\">\n",
       "  </head>\n",
       "\n",
       "  <style>\n",
       "    body {\n",
       "      margin: 0;\n",
       "      padding: 0;\n",
       "    }\n",
       "\n",
       "    #brax-viewer {\n",
       "      height: 480px;\n",
       "      margin: 0;\n",
       "      padding: 0;\n",
       "    }\n",
       "  </style>\n",
       "  <script async src=\"https://unpkg.com/es-module-shims@1.6.3/dist/es-module-shims.js\"></script>\n",
       "\n",
       "  <script type=\"importmap\">\n",
       "    {\n",
       "      \"imports\": {\n",
       "        \"three\": \"https://unpkg.com/three@0.150.1/build/three.module.js\",\n",
       "        \"three/addons/\": \"https://unpkg.com/three@0.150.1/examples/jsm/\",\n",
       "        \"lilgui\": \"https://cdn.jsdelivr.net/npm/lil-gui@0.18.0/+esm\",\n",
       "        \"viewer\": \"https://cdn.jsdelivr.net/gh/google/brax@v0.10.5/brax/visualizer/js/viewer.js\"\n",
       "      }\n",
       "    }\n",
       "  </script>\n",
       "\n",
       "  <script src=\"https://unpkg.com/pako@2.1.0/dist/pako.min.js\"></script>\n",
       "\n",
       "  <script type=\"application/javascript\">\n",
       "  var system = \"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\";\n",
       "  // decode base64 (convert ascii to binary)\n",
       "  system = atob(system);\n",
       "  // convert binary string to character-number array\n",
       "  system = system.split('').map(function(x){return x.charCodeAt(0);});\n",
       "  // decompress\n",
       "  system = pako.inflate(system);\n",
       "  // convert gunzipped byteArray back to ascii string\n",
       "  system = new TextDecoder(\"utf-8\").decode(system);\n",
       "  // and load json\n",
       "  system = JSON.parse(system);\n",
       "  </script>\n",
       "\n",
       "  <body>\n",
       "\n",
       "    <div id=\"brax-viewer\"></div>\n",
       "\n",
       "    <script type=\"module\">\n",
       "      import {Viewer} from 'viewer';\n",
       "      const domElement = document.getElementById(\"brax-viewer\");\n",
       "      var viewer = new Viewer(domElement, system);\n",
       "    </script>\n",
       "\n",
       "  </body>\n",
       "\n",
       "</html>"
      ],
      "text/plain": [
       "<IPython.core.display.HTML object>"
      ]
     },
     "execution_count": 78,
     "metadata": {},
     "output_type": "execute_result"
    }
   ],
   "source": [
    "HTML(html.render(env.sys.tree_replace({'opt.timestep': env.dt}), rollout))"
   ]
  },
  {
   "cell_type": "code",
   "execution_count": null,
   "metadata": {},
   "outputs": [],
   "source": []
  }
 ],
 "metadata": {
  "kernelspec": {
   "display_name": "Python 3 (ipykernel)",
   "language": "python",
   "name": "python3"
  },
  "language_info": {
   "codemirror_mode": {
    "name": "ipython",
    "version": 3
   },
   "file_extension": ".py",
   "mimetype": "text/x-python",
   "name": "python",
   "nbconvert_exporter": "python",
   "pygments_lexer": "ipython3",
   "version": "3.10.14"
  }
 },
 "nbformat": 4,
 "nbformat_minor": 4
}
